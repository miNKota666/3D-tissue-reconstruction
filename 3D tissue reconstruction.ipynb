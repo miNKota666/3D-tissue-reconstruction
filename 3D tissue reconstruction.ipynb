{
 "cells": [
  {
   "cell_type": "code",
   "execution_count": 4,
   "metadata": {
    "collapsed": true,
    "ExecuteTime": {
     "end_time": "2023-06-14T13:38:29.266164Z",
     "start_time": "2023-06-14T13:38:29.191369Z"
    }
   },
   "outputs": [],
   "source": [
    "import os\n",
    "import re\n",
    "import cv2\n",
    "import fnmatch\n",
    "import numpy as np\n",
    "import pandas as pd\n",
    "import open3d as o3d\n",
    "import pyvista as pv\n",
    "import plotly.express as px\n",
    "import matplotlib.pyplot as plt\n",
    "import image_stack_to_pcd as nk_module"
   ]
  },
  {
   "cell_type": "code",
   "execution_count": 5,
   "outputs": [
    {
     "name": "stdout",
     "output_type": "stream",
     "text": [
      "The autoreload extension is already loaded. To reload it, use:\n",
      "  %reload_ext autoreload\n"
     ]
    }
   ],
   "source": [
    "%load_ext autoreload\n",
    "%autoreload 2"
   ],
   "metadata": {
    "collapsed": false,
    "ExecuteTime": {
     "end_time": "2023-06-14T13:38:29.431206Z",
     "start_time": "2023-06-14T13:38:29.388717Z"
    }
   }
  },
  {
   "cell_type": "code",
   "execution_count": 6,
   "outputs": [
    {
     "data": {
      "text/plain": "['/Users/minkota/Library/CloudStorage/OneDrive-UniversityofGeorgia/IRM/3D rec/bv_df20/bv_84_df20.tif',\n '/Users/minkota/Library/CloudStorage/OneDrive-UniversityofGeorgia/IRM/3D rec/bv_df20/bv_85_df20.tif',\n '/Users/minkota/Library/CloudStorage/OneDrive-UniversityofGeorgia/IRM/3D rec/bv_df20/bv_76_df20.tif',\n '/Users/minkota/Library/CloudStorage/OneDrive-UniversityofGeorgia/IRM/3D rec/bv_df20/bv_77_df20.tif',\n '/Users/minkota/Library/CloudStorage/OneDrive-UniversityofGeorgia/IRM/3D rec/bv_df20/bv_99_df20.tif',\n '/Users/minkota/Library/CloudStorage/OneDrive-UniversityofGeorgia/IRM/3D rec/bv_df20/bv_98_df20.tif',\n '/Users/minkota/Library/CloudStorage/OneDrive-UniversityofGeorgia/IRM/3D rec/bv_df20/bv_94_df20.tif',\n '/Users/minkota/Library/CloudStorage/OneDrive-UniversityofGeorgia/IRM/3D rec/bv_df20/bv_83_df20.tif',\n '/Users/minkota/Library/CloudStorage/OneDrive-UniversityofGeorgia/IRM/3D rec/bv_df20/bv_82_df20.tif',\n '/Users/minkota/Library/CloudStorage/OneDrive-UniversityofGeorgia/IRM/3D rec/bv_df20/bv_89_df20.tif',\n '/Users/minkota/Library/CloudStorage/OneDrive-UniversityofGeorgia/IRM/3D rec/bv_df20/bv_88_df20.tif',\n '/Users/minkota/Library/CloudStorage/OneDrive-UniversityofGeorgia/IRM/3D rec/bv_df20/bv_90_df20.tif',\n '/Users/minkota/Library/CloudStorage/OneDrive-UniversityofGeorgia/IRM/3D rec/bv_df20/bv_91_df20.tif',\n '/Users/minkota/Library/CloudStorage/OneDrive-UniversityofGeorgia/IRM/3D rec/bv_df20/bv_75_df20.tif',\n '/Users/minkota/Library/CloudStorage/OneDrive-UniversityofGeorgia/IRM/3D rec/bv_df20/bv_74_df20.tif',\n '/Users/minkota/Library/CloudStorage/OneDrive-UniversityofGeorgia/IRM/3D rec/bv_df20/bv_87_df20.tif',\n '/Users/minkota/Library/CloudStorage/OneDrive-UniversityofGeorgia/IRM/3D rec/bv_df20/bv_86_df20.tif',\n '/Users/minkota/Library/CloudStorage/OneDrive-UniversityofGeorgia/IRM/3D rec/bv_df20/bv_80_df20.tif',\n '/Users/minkota/Library/CloudStorage/OneDrive-UniversityofGeorgia/IRM/3D rec/bv_df20/bv_81_df20.tif',\n '/Users/minkota/Library/CloudStorage/OneDrive-UniversityofGeorgia/IRM/3D rec/bv_df20/bv_78_df20.tif',\n '/Users/minkota/Library/CloudStorage/OneDrive-UniversityofGeorgia/IRM/3D rec/bv_df20/bv_79_df20.tif',\n '/Users/minkota/Library/CloudStorage/OneDrive-UniversityofGeorgia/IRM/3D rec/bv_df20/bv_97_df20.tif',\n '/Users/minkota/Library/CloudStorage/OneDrive-UniversityofGeorgia/IRM/3D rec/bv_df20/bv_96_df20.tif',\n '/Users/minkota/Library/CloudStorage/OneDrive-UniversityofGeorgia/IRM/3D rec/bv_df20/bv_72_df20.tif',\n '/Users/minkota/Library/CloudStorage/OneDrive-UniversityofGeorgia/IRM/3D rec/bv_df20/bv_73_df20.tif']"
     },
     "execution_count": 6,
     "metadata": {},
     "output_type": "execute_result"
    }
   ],
   "source": [
    "def get_path (path: str):\n",
    "\tfile_names = os.listdir (path)\n",
    "\tfile_path = []\n",
    "\n",
    "\tfor file_name in file_names:\n",
    "\t\tfile_path.append (os.path.abspath (f'{path}/{file_name}'))\n",
    "\n",
    "\treturn file_path\n",
    "\n",
    "\n",
    "path = 'bv_df20'\n",
    "files = get_path (path = path)\n",
    "files"
   ],
   "metadata": {
    "collapsed": false,
    "ExecuteTime": {
     "end_time": "2023-06-14T13:38:30.571277Z",
     "start_time": "2023-06-14T13:38:30.524991Z"
    }
   }
  },
  {
   "cell_type": "markdown",
   "source": [
    "# NK_module"
   ],
   "metadata": {
    "collapsed": false
   }
  },
  {
   "cell_type": "code",
   "execution_count": 7,
   "outputs": [
    {
     "name": "stdout",
     "output_type": "stream",
     "text": [
      "Opened folder:\n",
      "/Users/minkota/Library/CloudStorage/OneDrive-UniversityofGeorgia/IRM/3D rec/bv_df20\n",
      "There are 25 files in the folder\n",
      "\n",
      "IMAGE PROCESSING STAGE\n",
      "\n",
      "[INFO] File [25/25] is processing\r\n",
      "PROCESSING COMPLETED\n"
     ]
    }
   ],
   "source": [
    "path_win = 'E:\\\\OneDrive - University of Georgia\\\\IRM\\\\3D rec\\\\bv'\n",
    "path_mac = '/Users/minkota/Library/CloudStorage/OneDrive-UniversityofGeorgia/IRM/3D rec/bv_df20'\n",
    "\n",
    "STACK = nk_module.process_files_in_folder (\n",
    "\t\tfolder_path = path_mac\n",
    "\t\t)"
   ],
   "metadata": {
    "collapsed": false,
    "ExecuteTime": {
     "end_time": "2023-06-14T13:38:59.744134Z",
     "start_time": "2023-06-14T13:38:53.353215Z"
    }
   }
  },
  {
   "cell_type": "code",
   "execution_count": 5,
   "outputs": [
    {
     "name": "stdout",
     "output_type": "stream",
     "text": [
      "Completedex is: [25/25]\n"
     ]
    }
   ],
   "source": [
    "reconstructed_df = nk_module.tissue_reconstruction (stack = STACK)"
   ],
   "metadata": {
    "collapsed": false,
    "ExecuteTime": {
     "end_time": "2023-06-13T15:08:53.722996Z",
     "start_time": "2023-06-13T15:08:51.588194Z"
    }
   }
  },
  {
   "cell_type": "code",
   "execution_count": 6,
   "outputs": [],
   "source": [
    "pd_reconstructed_df = pd.DataFrame (\n",
    "\t\tdata = reconstructed_df,\n",
    "\t\tcolumns = ['x', 'y', 'z']\n",
    "\t\t)\n",
    "\n",
    "const_map = 23_082\n",
    "x_coefficient = pd_reconstructed_df.x.max() / const_map\n",
    "y_coefficient = pd_reconstructed_df.y.max() / const_map\n",
    "z_coefficient = 30\n",
    "\n",
    "pd_reconstructed_df.x = pd_reconstructed_df.x * x_coefficient\n",
    "pd_reconstructed_df.y = pd_reconstructed_df.y * y_coefficient\n",
    "pd_reconstructed_df.z = pd_reconstructed_df.z * z_coefficient"
   ],
   "metadata": {
    "collapsed": false,
    "ExecuteTime": {
     "end_time": "2023-06-13T15:08:59.690645Z",
     "start_time": "2023-06-13T15:08:58.940456Z"
    }
   }
  },
  {
   "cell_type": "code",
   "execution_count": 7,
   "outputs": [
    {
     "data": {
      "text/plain": "                   x           y      z\n0         209.096006  698.785201  720.0\n1         209.096006  698.991942  720.0\n2         209.096006  699.198683  720.0\n3         209.290876  698.785201  720.0\n4         209.290876  698.991942  720.0\n...              ...         ...    ...\n20325942  836.968634  520.160818    0.0\n20325943  836.968634  520.367559    0.0\n20325944  837.163504  519.954077    0.0\n20325945  837.163504  520.160818    0.0\n20325946    0.194870    0.206741   30.0\n\n[20325947 rows x 3 columns]",
      "text/html": "<div>\n<style scoped>\n    .dataframe tbody tr th:only-of-type {\n        vertical-align: middle;\n    }\n\n    .dataframe tbody tr th {\n        vertical-align: top;\n    }\n\n    .dataframe thead th {\n        text-align: right;\n    }\n</style>\n<table border=\"1\" class=\"dataframe\">\n  <thead>\n    <tr style=\"text-align: right;\">\n      <th></th>\n      <th>x</th>\n      <th>y</th>\n      <th>z</th>\n    </tr>\n  </thead>\n  <tbody>\n    <tr>\n      <th>0</th>\n      <td>209.096006</td>\n      <td>698.785201</td>\n      <td>720.0</td>\n    </tr>\n    <tr>\n      <th>1</th>\n      <td>209.096006</td>\n      <td>698.991942</td>\n      <td>720.0</td>\n    </tr>\n    <tr>\n      <th>2</th>\n      <td>209.096006</td>\n      <td>699.198683</td>\n      <td>720.0</td>\n    </tr>\n    <tr>\n      <th>3</th>\n      <td>209.290876</td>\n      <td>698.785201</td>\n      <td>720.0</td>\n    </tr>\n    <tr>\n      <th>4</th>\n      <td>209.290876</td>\n      <td>698.991942</td>\n      <td>720.0</td>\n    </tr>\n    <tr>\n      <th>...</th>\n      <td>...</td>\n      <td>...</td>\n      <td>...</td>\n    </tr>\n    <tr>\n      <th>20325942</th>\n      <td>836.968634</td>\n      <td>520.160818</td>\n      <td>0.0</td>\n    </tr>\n    <tr>\n      <th>20325943</th>\n      <td>836.968634</td>\n      <td>520.367559</td>\n      <td>0.0</td>\n    </tr>\n    <tr>\n      <th>20325944</th>\n      <td>837.163504</td>\n      <td>519.954077</td>\n      <td>0.0</td>\n    </tr>\n    <tr>\n      <th>20325945</th>\n      <td>837.163504</td>\n      <td>520.160818</td>\n      <td>0.0</td>\n    </tr>\n    <tr>\n      <th>20325946</th>\n      <td>0.194870</td>\n      <td>0.206741</td>\n      <td>30.0</td>\n    </tr>\n  </tbody>\n</table>\n<p>20325947 rows × 3 columns</p>\n</div>"
     },
     "execution_count": 7,
     "metadata": {},
     "output_type": "execute_result"
    }
   ],
   "source": [
    "pd_reconstructed_df"
   ],
   "metadata": {
    "collapsed": false,
    "ExecuteTime": {
     "end_time": "2023-06-13T15:09:01.358347Z",
     "start_time": "2023-06-13T15:09:01.290781Z"
    }
   }
  },
  {
   "cell_type": "markdown",
   "source": [
    "# PyVista"
   ],
   "metadata": {
    "collapsed": false
   }
  },
  {
   "cell_type": "code",
   "execution_count": 11,
   "outputs": [],
   "source": [
    "pcd = o3d.geometry.PointCloud()\n",
    "pcd.points = o3d.utility.Vector3dVector(pd_reconstructed_df.values)"
   ],
   "metadata": {
    "collapsed": false,
    "ExecuteTime": {
     "end_time": "2023-06-13T15:10:49.192340Z",
     "start_time": "2023-06-13T15:10:31.393391Z"
    }
   }
  },
  {
   "cell_type": "code",
   "execution_count": 14,
   "outputs": [
    {
     "name": "stdout",
     "output_type": "stream",
     "text": [
      "\u001B[1;33m[Open3D WARNING] GLFW Error: Cocoa: Failed to find service port for display\u001B[0;m\n"
     ]
    }
   ],
   "source": [
    "o3d.visualization.draw_geometries([pcd])"
   ],
   "metadata": {
    "collapsed": false,
    "ExecuteTime": {
     "end_time": "2023-06-13T15:18:21.197426Z",
     "start_time": "2023-06-13T15:16:26.897155Z"
    }
   }
  },
  {
   "cell_type": "markdown",
   "source": [
    "# Open3d"
   ],
   "metadata": {
    "collapsed": false
   }
  },
  {
   "cell_type": "code",
   "execution_count": 13,
   "outputs": [],
   "source": [
    "pcd = pv.PolyData (\n",
    "\tpd_reconstructed_df.loc [\n",
    "\t\tpd_reconstructed_df.z.between (4_000, 10_600_000)\n",
    "\t].values\n",
    "\t)"
   ],
   "metadata": {
    "collapsed": false,
    "ExecuteTime": {
     "end_time": "2023-05-26T13:27:08.830792Z",
     "start_time": "2023-05-26T13:27:01.606893Z"
    }
   }
  },
  {
   "cell_type": "code",
   "execution_count": 14,
   "outputs": [],
   "source": [
    "pcd_o3d = o3d.geometry.PointCloud ()\n",
    "pcd_o3d.points = o3d.utility.Vector3dVector (\n",
    "\tpd_reconstructed_df.loc[\n",
    "\t\tpd_reconstructed_df.z < 400\n",
    "\t].values\n",
    ")"
   ],
   "metadata": {
    "collapsed": false,
    "ExecuteTime": {
     "end_time": "2023-05-26T13:27:18.667218Z",
     "start_time": "2023-05-26T13:27:15.562153Z"
    }
   }
  },
  {
   "cell_type": "code",
   "execution_count": 15,
   "outputs": [
    {
     "data": {
      "text/plain": "PointCloud with 2681800 points."
     },
     "execution_count": 15,
     "metadata": {},
     "output_type": "execute_result"
    }
   ],
   "source": [
    "pcd_o3d"
   ],
   "metadata": {
    "collapsed": false,
    "ExecuteTime": {
     "end_time": "2023-05-26T13:27:19.058523Z",
     "start_time": "2023-05-26T13:27:18.966393Z"
    }
   }
  },
  {
   "cell_type": "code",
   "execution_count": 41,
   "outputs": [
    {
     "data": {
      "text/plain": "True"
     },
     "execution_count": 41,
     "metadata": {},
     "output_type": "execute_result"
    }
   ],
   "source": [
    "o3d.io.write_point_cloud(\n",
    "\t\tfilename = 'PCD_rec_test.ply',\n",
    "\t\tpointcloud = pcd_o3d\n",
    "\t\t)"
   ],
   "metadata": {
    "collapsed": false,
    "ExecuteTime": {
     "end_time": "2023-05-22T20:38:16.208764400Z",
     "start_time": "2023-05-22T20:38:15.729327800Z"
    }
   }
  },
  {
   "cell_type": "code",
   "execution_count": 16,
   "outputs": [
    {
     "name": "stdout",
     "output_type": "stream",
     "text": [
      "\u001B[1;33m[Open3D WARNING] GLFW Error: Cocoa: Failed to find service port for display\u001B[0;m\n",
      "\u001B[1;33m[Open3D WARNING] GLFW Error: Cocoa: Failed to find service port for display\u001B[0;m\n",
      "\u001B[1;33m[Open3D WARNING] GLFW Error: Cocoa: Failed to find service port for display\u001B[0;m\n",
      "\u001B[1;33m[Open3D WARNING] GLFW Error: Cocoa: Failed to find service port for display\u001B[0;m\n",
      "\u001B[1;33m[Open3D WARNING] GLFW Error: Cocoa: Failed to find service port for display\u001B[0;m\n",
      "\u001B[1;33m[Open3D WARNING] GLFW Error: Cocoa: Failed to find service port for display\u001B[0;m\n",
      "\u001B[1;33m[Open3D WARNING] GLFW Error: Cocoa: Failed to find service port for display\u001B[0;m\n",
      "\u001B[1;33m[Open3D WARNING] GLFW Error: Cocoa: Failed to find service port for display\u001B[0;m\n",
      "\u001B[1;33m[Open3D WARNING] GLFW Error: Cocoa: Failed to find service port for display\u001B[0;m\n"
     ]
    }
   ],
   "source": [
    "o3d.visualization.draw_geometries ([pcd_o3d])"
   ],
   "metadata": {
    "collapsed": false,
    "ExecuteTime": {
     "end_time": "2023-05-26T13:28:14.542983Z",
     "start_time": "2023-05-26T13:27:25.942472Z"
    }
   }
  },
  {
   "cell_type": "code",
   "execution_count": 9,
   "outputs": [
    {
     "data": {
      "text/plain": "True"
     },
     "execution_count": 9,
     "metadata": {},
     "output_type": "execute_result"
    }
   ],
   "source": [
    "pcd_download = o3d.geometry.PointCloud ()\n",
    "pcd_download.points = o3d.utility.Vector3dVector (pd_reconstructed_df.values)\n",
    "\n",
    "o3d.io.write_point_cloud ('layers_pcd.ply', pcd_download)"
   ],
   "metadata": {
    "collapsed": false,
    "ExecuteTime": {
     "end_time": "2023-05-22T15:10:51.259974Z",
     "start_time": "2023-05-22T15:09:06.574625Z"
    }
   }
  },
  {
   "cell_type": "code",
   "execution_count": null,
   "outputs": [],
   "source": [],
   "metadata": {
    "collapsed": false
   }
  }
 ],
 "metadata": {
  "kernelspec": {
   "display_name": "Python 3",
   "language": "python",
   "name": "python3"
  },
  "language_info": {
   "codemirror_mode": {
    "name": "ipython",
    "version": 2
   },
   "file_extension": ".py",
   "mimetype": "text/x-python",
   "name": "python",
   "nbconvert_exporter": "python",
   "pygments_lexer": "ipython2",
   "version": "2.7.6"
  }
 },
 "nbformat": 4,
 "nbformat_minor": 0
}
